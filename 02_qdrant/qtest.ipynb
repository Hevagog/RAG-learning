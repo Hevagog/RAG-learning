{
 "cells": [
  {
   "cell_type": "code",
   "execution_count": 1,
   "id": "d12854a0",
   "metadata": {},
   "outputs": [
    {
     "name": "stderr",
     "output_type": "stream",
     "text": [
      "/home/tomek/simple-rag/.venv/lib/python3.12/site-packages/tqdm/auto.py:21: TqdmWarning: IProgress not found. Please update jupyter and ipywidgets. See https://ipywidgets.readthedocs.io/en/stable/user_install.html\n",
      "  from .autonotebook import tqdm as notebook_tqdm\n"
     ]
    }
   ],
   "source": [
    "from qdrant_client import QdrantClient\n",
    "from qdrant_client.models import Distance, VectorParams"
   ]
  },
  {
   "cell_type": "code",
   "execution_count": 2,
   "id": "8586fed8",
   "metadata": {},
   "outputs": [],
   "source": [
    "client = QdrantClient(url=\"http://localhost:6333\")"
   ]
  },
  {
   "cell_type": "code",
   "execution_count": 3,
   "id": "001ba719",
   "metadata": {},
   "outputs": [
    {
     "name": "stdout",
     "output_type": "stream",
     "text": [
      "[ScoredPoint(id=4, version=0, score=1.362, payload=None, vector=None, shard_key=None, order_value=None), ScoredPoint(id=1, version=0, score=1.273, payload=None, vector=None, shard_key=None, order_value=None), ScoredPoint(id=3, version=0, score=1.208, payload=None, vector=None, shard_key=None, order_value=None)]\n"
     ]
    }
   ],
   "source": [
    "search_result = client.query_points(\n",
    "    collection_name=\"test_collection\",\n",
    "    query=[0.2, 0.1, 0.9, 0.7],\n",
    "    with_payload=False,\n",
    "    limit=3\n",
    ").points\n",
    "\n",
    "print(search_result)\n"
   ]
  },
  {
   "cell_type": "code",
   "execution_count": 7,
   "id": "743b1f33",
   "metadata": {},
   "outputs": [
    {
     "name": "stdout",
     "output_type": "stream",
     "text": [
      "[ScoredPoint(id=2, version=0, score=0.871, payload={'city': 'London'}, vector=None, shard_key=None, order_value=None)]\n"
     ]
    }
   ],
   "source": [
    "from qdrant_client.models import Filter, FieldCondition, MatchValue\n",
    "\n",
    "search_result = client.query_points(\n",
    "    collection_name=\"test_collection\",\n",
    "    query=[0.2, 0.1, 0.9, 0.7],\n",
    "    query_filter=Filter(\n",
    "        must=[FieldCondition(key=\"city\", match=MatchValue(value=\"London\"))]\n",
    "    ),\n",
    "    with_payload=True,\n",
    "    limit=3,\n",
    ").points\n",
    "\n",
    "print(search_result)\n"
   ]
  },
  {
   "cell_type": "code",
   "execution_count": 6,
   "id": "f6cd93ad",
   "metadata": {},
   "outputs": [],
   "source": [
    "from qdrant_client import models\n",
    "import ollama"
   ]
  },
  {
   "cell_type": "code",
   "execution_count": 8,
   "id": "34399f56",
   "metadata": {},
   "outputs": [],
   "source": [
    "collection_name = \"knowledge_base\"\n",
    "EMBEDDING_MODEL=\"qllama/bge-small-en-v1.5:latest\"\n",
    "LANGUAGE_MODEL = \"llama3.2\""
   ]
  },
  {
   "cell_type": "code",
   "execution_count": 29,
   "id": "9bda6fe2",
   "metadata": {},
   "outputs": [
    {
     "data": {
      "text/plain": [
       "8"
      ]
     },
     "execution_count": 29,
     "metadata": {},
     "output_type": "execute_result"
    }
   ],
   "source": [
    "client.get_collection(collection_name=\"knowledge_base\").points_count"
   ]
  },
  {
   "cell_type": "code",
   "execution_count": 20,
   "id": "7bdade2d",
   "metadata": {},
   "outputs": [
    {
     "data": {
      "text/plain": [
       "CollectionsResponse(collections=[CollectionDescription(name='knowledge_base2'), CollectionDescription(name='buka'), CollectionDescription(name='test_collection'), CollectionDescription(name='knowledge_base')])"
      ]
     },
     "execution_count": 20,
     "metadata": {},
     "output_type": "execute_result"
    }
   ],
   "source": [
    "client.get_collections()"
   ]
  },
  {
   "cell_type": "code",
   "execution_count": null,
   "id": "e87e465c",
   "metadata": {},
   "outputs": [
    {
     "data": {
      "text/plain": [
       "True"
      ]
     },
     "execution_count": 63,
     "metadata": {},
     "output_type": "execute_result"
    }
   ],
   "source": [
    "client.create_collection(\n",
    "    collection_name=collection_name,\n",
    "    vectors_config=models.VectorParams(size=384, distance=models.Distance.COSINE)\n",
    ")\n"
   ]
  },
  {
   "cell_type": "code",
   "execution_count": 21,
   "id": "9aee7e35",
   "metadata": {},
   "outputs": [],
   "source": [
    "documents = [\n",
    "    \"Qdrant is a vector database & vector similarity search engine. It deploys as an API service providing search for the nearest high-dimensional vectors. With Qdrant, embeddings or neural network encoders can be turned into full-fledged applications for matching, searching, recommending, and much more!\",\n",
    "    \"Docker helps developers build, share, and run applications anywhere — without tedious environment configuration or management.\",\n",
    "    \"PyTorch is a machine learning framework based on the Torch library, used for applications such as computer vision and natural language processing.\",\n",
    "    \"MySQL is an open-source relational database management system (RDBMS). A relational database organizes data into one or more data tables in which data may be related to each other; these relations help structure the data. SQL is a language that programmers use to create, modify and extract data from the relational database, as well as control user access to the database.\",\n",
    "    \"NGINX is a free, open-source, high-performance HTTP server and reverse proxy, as well as an IMAP/POP3 proxy server. NGINX is known for its high performance, stability, rich feature set, simple configuration, and low resource consumption.\",\n",
    "    \"FastAPI is a modern, fast (high-performance), web framework for building APIs with Python 3.7+ based on standard Python type hints.\",\n",
    "    \"SentenceTransformers is a Python framework for state-of-the-art sentence, text and image embeddings. You can use this framework to compute sentence / text embeddings for more than 100 languages. These embeddings can then be compared e.g. with cosine-similarity to find sentences with a similar meaning. This can be useful for semantic textual similar, semantic search, or paraphrase mining.\",\n",
    "    \"The cron command-line utility is a job scheduler on Unix-like operating systems. Users who set up and maintain software environments use cron to schedule jobs (commands or shell scripts), also known as cron jobs, to run periodically at fixed times, dates, or intervals.\",\n",
    "]"
   ]
  },
  {
   "cell_type": "code",
   "execution_count": 22,
   "id": "24a56d90",
   "metadata": {},
   "outputs": [],
   "source": [
    "document_embeddings = []\n",
    "for idx, document in enumerate(documents):\n",
    "    embedding_response = ollama.embeddings(\n",
    "        model=EMBEDDING_MODEL,  # \"qllama/bge-small-en-v1.5:latest\"\n",
    "        prompt=document\n",
    "    )\n",
    "    document_embeddings.append({\n",
    "        'id': idx,\n",
    "        'vector': embedding_response['embedding'],\n",
    "        'payload': {'document': document}\n",
    "    })"
   ]
  },
  {
   "cell_type": "code",
   "execution_count": 23,
   "id": "bff43e29",
   "metadata": {},
   "outputs": [
    {
     "data": {
      "text/plain": [
       "UpdateResult(operation_id=0, status=<UpdateStatus.COMPLETED: 'completed'>)"
      ]
     },
     "execution_count": 23,
     "metadata": {},
     "output_type": "execute_result"
    }
   ],
   "source": [
    "client.upsert(\n",
    "    collection_name=collection_name,\n",
    "    points=[\n",
    "        models.PointStruct(\n",
    "            id=item['id'],\n",
    "            vector=item['vector'],\n",
    "            payload=item['payload'],\n",
    "        )\n",
    "        for item in document_embeddings\n",
    "    ],\n",
    ")"
   ]
  },
  {
   "cell_type": "code",
   "execution_count": 9,
   "id": "81d29e34",
   "metadata": {},
   "outputs": [],
   "source": [
    "prompt = \"\"\"\n",
    "What tools should I need to use to build a web service using vector embeddings for search?\n",
    "\"\"\""
   ]
  },
  {
   "cell_type": "code",
   "execution_count": 10,
   "id": "2c9c149d",
   "metadata": {},
   "outputs": [
    {
     "name": "stdout",
     "output_type": "stream",
     "text": [
      "Chatbot response:\n",
      "Building a web service using vector embeddings for search requires several tools and technologies. Here's a list of some of the key ones:\n",
      "\n",
      "**Frontend**\n",
      "\n",
      "1. **Web Framework**: Choose a suitable web framework such as React, Angular, or Vue.js to build the user interface and handle HTTP requests.\n",
      "2. **JavaScript Library**: Utilize JavaScript libraries like TensorFlow.js (for vector embedding computation) or D3.js (for visualization).\n",
      "\n",
      "**Backend**\n",
      "\n",
      "1. **Programming Language**: Select a programming language such as Python, Java, or C++ to write the backend logic.\n",
      "2. **Web Framework**: Use a web framework like Flask (Python), Spring Boot (Java), or Express.js (Node.js) to build the RESTful API.\n",
      "\n",
      "**Vector Embeddings**\n",
      "\n",
      "1. **Library**: Choose a library that provides vector embedding functionality, such as:\n",
      "\t* TensorFlow.js\n",
      "\t* PyTorch (for Python)\n",
      "\t* Weights & Biases (for Python and other languages)\n",
      "2. **Model Architecture**: Select a suitable model architecture for your specific use case, such as:\n",
      "\t* Word2Vec\n",
      "\t* GloVe\n",
      "\t* FastText\n",
      "\n",
      "**Indexing and Retrieval**\n",
      "\n",
      "1. **Indexing Library**: Utilize indexing libraries like:\n",
      "\t* Elasticsearch (search engine with vector similarity)\n",
      "\t* Annoy (approximate nearest neighbors search)\n",
      "2. **Vector Similarity**: Choose a library for vector similarity calculation, such as:\n",
      "\t* Cosine similarity\n",
      "\t* Dot product\n",
      "\n",
      "**Database**\n",
      "\n",
      "1. **Database Management System**: Select a suitable database management system like MySQL, PostgreSQL, or MongoDB to store and manage your data.\n",
      "2. **NoSQL Database**: Consider using NoSQL databases like Couchbase or Redis if you need high-performance and scalability.\n",
      "\n",
      "**Security and Monitoring**\n",
      "\n",
      "1. **Authentication**: Implement authentication mechanisms to secure user access to your web service.\n",
      "2. **Monitoring Tools**: Use monitoring tools like Prometheus, Grafana, or New Relic to monitor performance and errors in your application.\n",
      "\n",
      "**Additional Tools**\n",
      "\n",
      "1. **API Gateway**: Consider using an API gateway like NGINX or Amazon API Gateway to manage incoming requests and provide a single entry point for your web service.\n",
      "2. **Containerization**: Use containerization tools like Docker to manage dependencies, isolate environment variables, and simplify deployment.\n",
      "3. **CI/CD Tools**: Integrate continuous integration and continuous deployment (CI/CD) tools like Jenkins or CircleCI to automate testing, building, and deployment of your application.\n",
      "\n",
      "Here's a high-level overview of the architecture:\n",
      "\n",
      "```\n",
      "+---------------+\n",
      "|  Frontend    |\n",
      "+---------------+\n",
      "       |         |\n",
      "       |  REST API  |\n",
      "       |  (using Web Framework)|\n",
      "       v         v\n",
      "+---------------+\n",
      "| Backend      |\n",
      "+---------------+\n",
      "        |         |\n",
      "        |  Vector Embeddings Library  |\n",
      "        |  (using Model Architecture)\n",
      "        v         v\n",
      "+---------------+\n",
      "|  Indexing & Retrieval  |\n",
      "+---------------+\n",
      "        |         |\n",
      "        |  Indexing Library (e.g., Elasticsearch)|\n",
      "        v         v\n",
      "+---------------+\n",
      "|  Database      |\n",
      "+---------------+\n",
      "```\n",
      "\n",
      "This architecture provides a basic structure for building a web service using vector embeddings for search. You can modify and extend it as needed to fit your specific requirements.\n",
      "\n"
     ]
    }
   ],
   "source": [
    "stream = ollama.chat(\n",
    "    model=LANGUAGE_MODEL,\n",
    "    messages=[\n",
    "        {\"role\": \"user\", \"content\": prompt},\n",
    "    ],\n",
    "    stream=True,\n",
    ")\n",
    "print(\"Chatbot response:\")\n",
    "for chunk in stream:\n",
    "    print(chunk[\"message\"][\"content\"], end=\"\", flush=True)\n",
    "print(\"\\n\")"
   ]
  },
  {
   "cell_type": "code",
   "execution_count": 16,
   "id": "7b06af48",
   "metadata": {},
   "outputs": [
    {
     "data": {
      "text/plain": [
       "'\\nWhat tools should I need to use to build a web service using vector embeddings for search?\\n'"
      ]
     },
     "execution_count": 16,
     "metadata": {},
     "output_type": "execute_result"
    }
   ],
   "source": [
    "prompt"
   ]
  },
  {
   "cell_type": "code",
   "execution_count": 12,
   "id": "904d1dc9",
   "metadata": {},
   "outputs": [],
   "source": [
    "# Generate embedding using ollama\n",
    "embedding_response = ollama.embeddings(\n",
    "    model=EMBEDDING_MODEL,\n",
    "    prompt=prompt\n",
    ")"
   ]
  },
  {
   "cell_type": "code",
   "execution_count": 75,
   "id": "8831d80b",
   "metadata": {},
   "outputs": [],
   "source": [
    "# embedding_response['embedding']"
   ]
  },
  {
   "cell_type": "code",
   "execution_count": 17,
   "id": "e0def4e6",
   "metadata": {},
   "outputs": [
    {
     "data": {
      "text/plain": [
       "Document(text='\\nWhat tools should I need to use to build a web service using vector embeddings for search?\\n', model='qllama/bge-small-en-v1.5:latest', options=None)"
      ]
     },
     "execution_count": 17,
     "metadata": {},
     "output_type": "execute_result"
    }
   ],
   "source": [
    "models.Document(text=prompt, model=EMBEDDING_MODEL)"
   ]
  },
  {
   "cell_type": "code",
   "execution_count": 26,
   "id": "32e4d0d4",
   "metadata": {},
   "outputs": [],
   "source": [
    "results = client.query_points(\n",
    "    collection_name=collection_name,\n",
    "    query=embedding_response['embedding'],\n",
    "    limit=5\n",
    ")"
   ]
  },
  {
   "cell_type": "code",
   "execution_count": null,
   "id": "59df137e",
   "metadata": {},
   "outputs": [],
   "source": []
  },
  {
   "cell_type": "code",
   "execution_count": 30,
   "id": "5884a81b",
   "metadata": {},
   "outputs": [
    {
     "data": {
      "text/plain": [
       "[ScoredPoint(id=7, version=0, score=1.0, payload={'document': 'The cron command-line utility is a job scheduler on Unix-like operating systems. Users who set up and maintain software environments use cron to schedule jobs (commands or shell scripts), also known as cron jobs, to run periodically at fixed times, dates, or intervals.'}, vector=None, shard_key=None, order_value=None),\n",
       " ScoredPoint(id=3, version=0, score=0.58223015, payload={'document': 'MySQL is an open-source relational database management system (RDBMS). A relational database organizes data into one or more data tables in which data may be related to each other; these relations help structure the data. SQL is a language that programmers use to create, modify and extract data from the relational database, as well as control user access to the database.'}, vector=None, shard_key=None, order_value=None),\n",
       " ScoredPoint(id=1, version=0, score=0.55714494, payload={'document': 'Docker helps developers build, share, and run applications anywhere — without tedious environment configuration or management.'}, vector=None, shard_key=None, order_value=None),\n",
       " ScoredPoint(id=5, version=0, score=0.5288764, payload={'document': 'FastAPI is a modern, fast (high-performance), web framework for building APIs with Python 3.7+ based on standard Python type hints.'}, vector=None, shard_key=None, order_value=None),\n",
       " ScoredPoint(id=2, version=0, score=0.52824306, payload={'document': 'PyTorch is a machine learning framework based on the Torch library, used for applications such as computer vision and natural language processing.'}, vector=None, shard_key=None, order_value=None)]"
      ]
     },
     "execution_count": 30,
     "metadata": {},
     "output_type": "execute_result"
    }
   ],
   "source": [
    "results.points"
   ]
  }
 ],
 "metadata": {
  "kernelspec": {
   "display_name": ".venv",
   "language": "python",
   "name": "python3"
  },
  "language_info": {
   "codemirror_mode": {
    "name": "ipython",
    "version": 3
   },
   "file_extension": ".py",
   "mimetype": "text/x-python",
   "name": "python",
   "nbconvert_exporter": "python",
   "pygments_lexer": "ipython3",
   "version": "3.12.2"
  }
 },
 "nbformat": 4,
 "nbformat_minor": 5
}
